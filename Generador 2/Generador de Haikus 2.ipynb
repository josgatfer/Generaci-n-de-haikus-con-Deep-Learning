{
 "cells": [
  {
   "cell_type": "markdown",
   "id": "4aa678c1",
   "metadata": {},
   "source": [
    "# Generador de Haikus 2.0\n",
    "En este Notebook se explicará el segundo acercamiento a la creación de un generador de haikus realizado con Deep Learning. \n",
    "\n",
    "Para este segundo experimento, se intentará realizar generación de haikus a nivel de palabra, haciendo uso de una red neuronal recurrente con una capa de Embedding y una capa LSTM.\n",
    "\n",
    "A continuación podemos ver todos los módulos que serán usados en el presente código."
   ]
  },
  {
   "cell_type": "code",
   "execution_count": 3,
   "id": "2b7b50ff",
   "metadata": {},
   "outputs": [],
   "source": [
    "import keras\n",
    "from keras.preprocessing.sequence import pad_sequences\n",
    "from keras.preprocessing.text import Tokenizer, one_hot\n",
    "from keras.callbacks import LambdaCallback\n",
    "from keras.models import Sequential\n",
    "from keras.layers import Dense, Activation, LSTM, Embedding\n",
    "import pandas as pd\n",
    "import csv\n",
    "import numpy as np\n",
    "import string as string\n",
    "import random\n",
    "import sys"
   ]
  },
  {
   "cell_type": "markdown",
   "id": "94cc64ae",
   "metadata": {},
   "source": [
    "## 1. Configuración del Notebook\n",
    "En este bloque de código se encuentran los parámetros más importantes a tener en cuenta para la configuración del Notebook."
   ]
  },
  {
   "cell_type": "code",
   "execution_count": 2,
   "id": "durable-helping",
   "metadata": {},
   "outputs": [],
   "source": [
    "haiku_path = \"all_haiku.csv\"\n",
    "sequence_length = 4\n",
    "sequence_step = 1"
   ]
  },
  {
   "cell_type": "markdown",
   "id": "verified-villa",
   "metadata": {},
   "source": [
    "## 2. Preparación del conjunto de entrenamiento\n",
    "En este caso, uniremos los poemas completamente, sin tener en cuenta su división por versos. Intentaremos realizar un primer acercamiento a la generación de textos usando Embeddings de palabras, puesto que la codificación one-hot requiere de 900 GB de espacio para este conjunto de entrenamiento, cantidad que no es asumible para mi hardware.\n",
    "\n",
    "En primer lugar leeremos los haikus y los almacenaremos en una lista de cadenas de caracteres. Haremos que estén todos en minúsculas y eliminaremos signos de puntuación y dígitos. También eliminaremos algunos espacios que puedan estar repetidos."
   ]
  },
  {
   "cell_type": "code",
   "execution_count": 4,
   "id": "satisfactory-technical",
   "metadata": {},
   "outputs": [
    {
     "data": {
      "text/plain": [
       "['fishing boats colors of the rainbow',\n",
       " 'ash wednesday trying to remember my dream',\n",
       " 'snowy morn pouring another cup of black coffee',\n",
       " 'shortest day flames dance in the oven',\n",
       " 'haze half the horse hidden behind the house',\n",
       " 'low sun the lady in red on high heels',\n",
       " 'advent the passing stranger farts',\n",
       " 'tarn a bubble in the ice',\n",
       " 'snowflakes new asphalt in the holes',\n",
       " 'crystal night gusts of rain outside']"
      ]
     },
     "execution_count": 4,
     "metadata": {},
     "output_type": "execute_result"
    }
   ],
   "source": [
    "df = pd.read_csv(str(haiku_path), usecols=[\"0\",\"1\",\"2\"])\n",
    "texts = df[['0', '1', '2']].values\n",
    "corpus = []\n",
    "for i in texts:\n",
    "    aux = str(i[0]) + \" \" + str(i[1]) + \" \" + str(i[2])\n",
    "    aux = \"\".join(v for v in aux if v not in string.punctuation and v not in string.digits).lower()\n",
    "    aux = aux.encode(\"utf8\").decode(\"ascii\",'ignore')\n",
    "    prechar = \" \"\n",
    "    char_list = list(aux)\n",
    "    #Eliminación de espacios repetidos\n",
    "    for char in range(0,len(char_list)):\n",
    "        if (prechar is \" \" or prechar is \"\\n\") and char_list[char] is \" \":\n",
    "            char_list[char-1]=\"\"\n",
    "        prechar = char_list[char]\n",
    "    aux = \"\".join(char_list)\n",
    "    corpus.append(aux)\n",
    "corpus[0:10]"
   ]
  },
  {
   "cell_type": "markdown",
   "id": "banner-throat",
   "metadata": {},
   "source": [
    "Ahora haremos una división en secuencias de palabras, junto con la palabra que continue la secuencia como objetivo.\n",
    "\n",
    "Además transformaremos las palabras a números enteros únicos que representen su índice en una lista."
   ]
  },
  {
   "cell_type": "code",
   "execution_count": 9,
   "id": "graduate-checklist",
   "metadata": {},
   "outputs": [
    {
     "name": "stdout",
     "output_type": "stream",
     "text": [
      "Número de palabras únicas: 51866\n",
      "Ejemplo de secuencia tokenizada:  [20212 29361 45205 19848]\n",
      "Ejemplo de próxima palabra tokenizada:  30122\n"
     ]
    }
   ],
   "source": [
    "word_list = []\n",
    "for s in corpus:\n",
    "    aux = s.split()\n",
    "    word_list.extend(aux)\n",
    "unique_words = sorted((set(word_list)))\n",
    "print(\"Número de palabras únicas: \" + str(len(unique_words)))\n",
    "\n",
    "sequences, next_words = [], []\n",
    "corpus = word_list\n",
    "idx = 0\n",
    "while idx + sequence_length + 1 < len(corpus):\n",
    "    words = corpus[idx:idx+sequence_length]\n",
    "    sequence=\"\"\n",
    "    for w in words:\n",
    "        sequence += \" \" + w\n",
    "    sequence = sequence.strip()\n",
    "    nextword = corpus[idx+sequence_length]\n",
    "    sequences.append(sequence)\n",
    "    next_words.append(nextword)\n",
    "    idx += sequence_step\n",
    "\n",
    "embedded_sentences = [one_hot(sent, len(unique_words)) for sent in sequences]\n",
    "embedded_next_words = [one_hot(next_word, len(unique_words))[0] for next_word in next_words]\n",
    "\n",
    "embedded_sentences = np.asarray(embedded_sentences)\n",
    "embedded_next_words = np.asarray(embedded_next_words)\n",
    "\n",
    "print(\"Ejemplo de secuencia tokenizada: \",embedded_sentences[0] )\n",
    "print(\"Ejemplo de próxima palabra tokenizada: \", embedded_next_words[0])"
   ]
  },
  {
   "cell_type": "code",
   "execution_count": 11,
   "id": "0666e76b",
   "metadata": {},
   "outputs": [],
   "source": [
    "proporcion_evaluacion = 0.1\n",
    "test_x = embedded_sentences[:int(len(embedded_sentences)*proporcion_evaluacion)]\n",
    "x = embedded_sentences[int(len(embedded_sentences)*proporcion_evaluacion)+1:]\n",
    "test_y = embedded_next_words[:int(len(embedded_next_words)*proporcion_evaluacion)]\n",
    "y = embedded_next_words[int(len(embedded_next_words)*proporcion_evaluacion)+1:]"
   ]
  },
  {
   "cell_type": "markdown",
   "id": "d5552b68",
   "metadata": {},
   "source": [
    "## 3. Creación del modelo\n",
    "A continuación se creará el modelo que será entrenado. Haremos uso de una capa *LSTM* con 128 celdas y una capa *Dense* con tantas celdas como palabras únicas hayamos encontrado.\n",
    "\n",
    "Usaremos como función de activación *softmax*, que devolverá una distribución de probabilidad para predecir la siguiente palabra dada una secuencia de entrada.\n",
    "\n",
    "Haremos uso de la función de pérdida *sparse_categorical_crossentropy*, dado que estamos escogiendo entre varias categorías, las palabras únicas."
   ]
  },
  {
   "cell_type": "code",
   "execution_count": 14,
   "id": "integral-alcohol",
   "metadata": {},
   "outputs": [],
   "source": [
    "model = Sequential()\n",
    "model.add(Embedding(len(unique_words), 100, input_length=sequence_length, mask_zero = True))\n",
    "model.add(LSTM(128, input_shape=(sequence_length, 1)))\n",
    "model.add(Dense(len(unique_words)))\n",
    "model.add(Activation('softmax'))"
   ]
  },
  {
   "cell_type": "code",
   "execution_count": 15,
   "id": "metallic-migration",
   "metadata": {},
   "outputs": [
    {
     "name": "stdout",
     "output_type": "stream",
     "text": [
      "Model: \"sequential_3\"\n",
      "_________________________________________________________________\n",
      "Layer (type)                 Output Shape              Param #   \n",
      "=================================================================\n",
      "embedding_3 (Embedding)      (None, 4, 100)            5186600   \n",
      "_________________________________________________________________\n",
      "lstm_3 (LSTM)                (None, 128)               117248    \n",
      "_________________________________________________________________\n",
      "dense_3 (Dense)              (None, 51866)             6690714   \n",
      "_________________________________________________________________\n",
      "activation_3 (Activation)    (None, 51866)             0         \n",
      "=================================================================\n",
      "Total params: 11,994,562\n",
      "Trainable params: 11,994,562\n",
      "Non-trainable params: 0\n",
      "_________________________________________________________________\n",
      "None\n"
     ]
    }
   ],
   "source": [
    "model.compile(optimizer='rmsprop', loss='sparse_categorical_crossentropy', metrics=['sparse_categorical_accuracy'])\n",
    "print(model.summary())"
   ]
  },
  {
   "cell_type": "markdown",
   "id": "d98ad682",
   "metadata": {},
   "source": [
    "## 4. Entrenamiento del modelo\n",
    "Ahora entrenaremos el modelo durante 25 épocas con lotes de 256 muestras. Realizaremos validación cruzada con el 20% de los datos en cada época."
   ]
  },
  {
   "cell_type": "code",
   "execution_count": 17,
   "id": "backed-authorization",
   "metadata": {},
   "outputs": [
    {
     "name": "stdout",
     "output_type": "stream",
     "text": [
      "WARNING:tensorflow:From E:\\Anaconda\\envs\\tf-gpu-36\\lib\\site-packages\\keras\\backend\\tensorflow_backend.py:422: The name tf.global_variables is deprecated. Please use tf.compat.v1.global_variables instead.\n",
      "\n",
      "Train on 1354868 samples, validate on 338717 samples\n",
      "Epoch 1/25\n",
      "1354868/1354868 [==============================] - 165s 122us/step - loss: 6.6579 - sparse_categorical_accuracy: 0.0752 - val_loss: 6.1694 - val_sparse_categorical_accuracy: 0.1030: 6.6750 - ETA: 6s - loss: 6.6705 - sparse_categorical_a - ETA: 5s - loss: 6.6690 -  - ETA: 3s - loss: 6.6655 - sparse_categorical_accuracy: - ETA: 3s - loss: 6.6645 - s - ETA: 1s - loss: 6.6608 - sparse_categori - ETA: 0s - loss: 6.6585 - sparse_categorical_accuracy: 0\n",
      "Epoch 2/25\n",
      "1354868/1354868 [==============================] - 163s 120us/step - loss: 6.2972 - sparse_categorical_accuracy: 0.1102 - val_loss: 6.0341 - val_sparse_categorical_accuracy: 0.11748 - sp\n",
      "Epoch 3/25\n",
      "1354868/1354868 [==============================] - 163s 121us/step - loss: 6.2397 - sparse_categorical_accuracy: 0.1194 - val_loss: 6.0814 - val_sparse_categorical_accuracy: 0.1227s - loss: 6.2314 - sparse_categor - ETA: 9s - loss: 6.2324 - sparse_categorical_accuracy:  - ETA: 9s -  - ET\n",
      "Epoch 4/25\n",
      "1354868/1354868 [==============================] - 167s 123us/step - loss: 6.4100 - sparse_categorical_accuracy: 0.1242 - val_loss: 6.2120 - val_sparse_categorical_accuracy: 0.1239s: 6.4097 - sparse_categorical_a\n",
      "Epoch 5/25\n",
      "1354868/1354868 [==============================] - 161s 119us/step - loss: 6.4871 - sparse_categorical_accuracy: 0.1278 - val_loss: 6.2441 - val_sparse_categorical_accuracy: 0.1250\n",
      "Epoch 6/25\n",
      "1354868/1354868 [==============================] - 163s 120us/step - loss: 6.4993 - sparse_categorical_accuracy: 0.1304 - val_loss: 6.2743 - val_sparse_categorical_accuracy: 0.1283\n",
      "Epoch 7/25\n",
      "1354868/1354868 [==============================] - 163s 120us/step - loss: 6.4958 - sparse_categorical_accuracy: 0.1324 - val_loss: 6.2739 - val_sparse_categorical_accuracy: 0.1277\n",
      "Epoch 8/25\n",
      "1354868/1354868 [==============================] - 164s 121us/step - loss: 6.4787 - sparse_categorical_accuracy: 0.1339 - val_loss: 6.2951 - val_sparse_categorical_accuracy: 0.1280\n",
      "Epoch 9/25\n",
      "1354868/1354868 [==============================] - 163s 120us/step - loss: 6.4472 - sparse_categorical_accuracy: 0.1361 - val_loss: 6.2715 - val_sparse_categorical_accuracy: 0.1293se_categorical_accu\n",
      "Epoch 10/25\n",
      "1354868/1354868 [==============================] - 162s 120us/step - loss: 6.4073 - sparse_categorical_accuracy: 0.1388 - val_loss: 6.3217 - val_sparse_categorical_accuracy: 0.1286\n",
      "Epoch 11/25\n",
      "1354868/1354868 [==============================] - 163s 120us/step - loss: 6.3698 - sparse_categorical_accuracy: 0.1413 - val_loss: 6.2905 - val_sparse_categorical_accuracy: 0.1299 6.3683 - sparse_categoric - ETA: 1s - loss: 6.3688 - \n",
      "Epoch 12/25\n",
      "1354868/1354868 [==============================] - 161s 119us/step - loss: 6.3470 - sparse_categorical_accuracy: 0.1430 - val_loss: 6.3236 - val_sparse_categorical_accuracy: 0.12866.3321 - ETA: 24s - loss: 6.3369 - sparse_categorical_accuracy: 0. - ETA: 24s - loss: 6.3369 - sparse_cate - ETA: 23s - loss: 6.3372 - sparse_categorical_accuracy: 0. - ETA: 23s - loss: 6.3371 - spa\n",
      "Epoch 13/25\n",
      "1354868/1354868 [==============================] - 165s 122us/step - loss: 6.3307 - sparse_categorical_accuracy: 0.1442 - val_loss: 6.3234 - val_sparse_categorical_accuracy: 0.1264\n",
      "Epoch 14/25\n",
      "1354868/1354868 [==============================] - 165s 122us/step - loss: 6.3045 - sparse_categorical_accuracy: 0.1452 - val_loss: 6.3255 - val_sparse_categorical_accuracy: 0.1280\n",
      "Epoch 15/25\n",
      "1354868/1354868 [==============================] - 164s 121us/step - loss: 6.2653 - sparse_categorical_accuracy: 0.1471 - val_loss: 6.3241 - val_sparse_categorical_accuracy: 0.1292\n",
      "Epoch 16/25\n",
      "1354868/1354868 [==============================] - 171s 126us/step - loss: 6.2315 - sparse_categorical_accuracy: 0.1488 - val_loss: 6.3022 - val_sparse_categorical_accuracy: 0.1296\n",
      "Epoch 17/25\n",
      "1354868/1354868 [==============================] - 168s 124us/step - loss: 6.2024 - sparse_categorical_accuracy: 0.1508 - val_loss: 6.3230 - val_sparse_categorical_accuracy: 0.1261\n",
      "Epoch 18/25\n",
      "1354868/1354868 [==============================] - 167s 123us/step - loss: 6.1751 - sparse_categorical_accuracy: 0.1533 - val_loss: 6.3327 - val_sparse_categorical_accuracy: 0.1276\n",
      "Epoch 19/25\n",
      "1354868/1354868 [==============================] - 166s 123us/step - loss: 6.1340 - sparse_categorical_accuracy: 0.1551 - val_loss: 6.3142 - val_sparse_categorical_accuracy: 0.1280\n",
      "Epoch 20/25\n",
      "1354868/1354868 [==============================] - 168s 124us/step - loss: 6.1031 - sparse_categorical_accuracy: 0.1575 - val_loss: 6.3227 - val_sparse_categorical_accuracy: 0.1266\n",
      "Epoch 21/25\n",
      "1354868/1354868 [==============================] - 166s 122us/step - loss: 6.0701 - sparse_categorical_accuracy: 0.1599 - val_loss: 6.3364 - val_sparse_categorical_accuracy: 0.1278\n",
      "Epoch 22/25\n",
      "1354868/1354868 [==============================] - 169s 125us/step - loss: 6.0376 - sparse_categorical_accuracy: 0.1622 - val_loss: 6.3480 - val_sparse_categorical_accuracy: 0.1241\n",
      "Epoch 23/25\n",
      "1354868/1354868 [==============================] - 167s 123us/step - loss: 6.0060 - sparse_categorical_accuracy: 0.1647 - val_loss: 6.3380 - val_sparse_categorical_accuracy: 0.1288\n",
      "Epoch 24/25\n",
      "1354868/1354868 [==============================] - 166s 123us/step - loss: 5.9823 - sparse_categorical_accuracy: 0.1668 - val_loss: 6.3748 - val_sparse_categorical_accuracy: 0.1246\n",
      "Epoch 25/25\n",
      "1354868/1354868 [==============================] - 169s 125us/step - loss: 5.9599 - sparse_categorical_accuracy: 0.1685 - val_loss: 6.3844 - val_sparse_categorical_accuracy: 0.1247\n"
     ]
    }
   ],
   "source": [
    "history = model.fit(x, y, epochs = 25, batch_size = 256, validation_split = 0.2)\n",
    "model.save_weights('generador_haikus2.h5')"
   ]
  },
  {
   "cell_type": "markdown",
   "id": "35d98ca6",
   "metadata": {},
   "source": [
    "Ahora, representaremos los resultados del entrenamiento en gráficas"
   ]
  },
  {
   "cell_type": "code",
   "execution_count": 18,
   "id": "9f1aa775",
   "metadata": {},
   "outputs": [
    {
     "data": {
      "image/png": "[encoded data removed]",
      "text/plain": [
       "<Figure size 432x288 with 1 Axes>"
      ]
     },
     "metadata": {
      "needs_background": "light"
     },
     "output_type": "display_data"
    },
    {
     "data": {
      "image/png": "[encoded data removed]",
      "text/plain": [
       "<Figure size 432x288 with 1 Axes>"
      ]
     },
     "metadata": {
      "needs_background": "light"
     },
     "output_type": "display_data"
    }
   ],
   "source": [
    "import matplotlib.pyplot as plt\n",
    "\n",
    "acc = history.history['sparse_categorical_accuracy']\n",
    "val_acc = history.history['val_sparse_categorical_accuracy']\n",
    "loss = history.history['loss']\n",
    "val_loss = history.history['val_loss']\n",
    "\n",
    "epochs = range(1, len(acc) + 1)\n",
    "\n",
    "plt.plot(epochs, acc, 'bo', label = 'Entrenamiento')\n",
    "plt.plot(epochs, val_acc, 'b', label = 'Validación')\n",
    "plt.title('Precisión en el entrenamiento y en la validación')\n",
    "plt.legend()\n",
    "\n",
    "plt.figure()\n",
    "\n",
    "plt.plot(epochs, loss, 'bo', label = 'Entrenamiento')\n",
    "plt.plot(epochs, val_loss, 'b', label = 'Validación')\n",
    "plt.title('Pérdida en el entrenamiento y en la validación')\n",
    "plt.legend()\n",
    "\n",
    "plt.show()"
   ]
  },
  {
   "cell_type": "markdown",
   "id": "f81c50eb",
   "metadata": {},
   "source": [
    "Además de los nefastos resultados obtenidos en cuanto a pérdida y precisión, podemos ver que se ha producido sobreajuste en el modelo, manteniéndose la precisión y la pérdida en el mismo valor para la validación, mientras que en el entrenamiento estos valores mejoraban.\n",
    "## 5. Evaluación\n",
    "Ahora, evaluaremos el modelo con las muestras que reservamos en el preprocesamiento de los datos. Estos datos confirmarán si los valores obtenidos en el entrenamiento son correctos, dado que la red no ha trabajado con ellos en ningún momento, son nuevos para ella."
   ]
  },
  {
   "cell_type": "code",
   "execution_count": 19,
   "id": "59fb32a8",
   "metadata": {},
   "outputs": [
    {
     "name": "stdout",
     "output_type": "stream",
     "text": [
      "188176/188176 [==============================] - 58s 308us/step\n",
      "Pérdida en la evaluación: 8.345900101439096\n",
      "Precisión en la evaluación: 0.08562728762626648\n"
     ]
    }
   ],
   "source": [
    "results = model.evaluate(test_x, test_y)\n",
    "print(\"Pérdida en la evaluación:\", results[0])\n",
    "print(\"Precisión en la evaluación:\", results[1])"
   ]
  },
  {
   "cell_type": "markdown",
   "id": "33c0fc34",
   "metadata": {},
   "source": [
    "Los resultados muestran que las métricas son incluso peores de lo que se observaba en el entrenamiento. Podemos concluir que este modelo no será útil para generar ningún tipo de haiku."
   ]
  }
 ],
 "metadata": {
  "kernelspec": {
   "display_name": "Python 3",
   "language": "python",
   "name": "python3"
  },
  "language_info": {
   "codemirror_mode": {
    "name": "ipython",
    "version": 3
   },
   "file_extension": ".py",
   "mimetype": "text/x-python",
   "name": "python",
   "nbconvert_exporter": "python",
   "pygments_lexer": "ipython3",
   "version": "3.6.13"
  }
 },
 "nbformat": 4,
 "nbformat_minor": 5
}
