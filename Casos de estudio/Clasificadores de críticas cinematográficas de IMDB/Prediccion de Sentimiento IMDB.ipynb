{
 "cells": [
  {
   "cell_type": "markdown",
   "id": "2257281a",
   "metadata": {},
   "source": [
    "# Predicción de sentimiento en críticas de películas de IMDB"
   ]
  },
  {
   "cell_type": "markdown",
   "id": "57c444f4",
   "metadata": {},
   "source": [
    "En este Notebook se llevará a cabo el ejemplo práctico de predicción de sentimiento en críticas de películas de IMDB del capítulo 6 del libro _\"Deep Learning con Python\"_, de François Chollet, titulado _\"Deep Learning para texto y secuencias\"_.\n",
    "\n",
    "## 1. Aprendizaje de embeddings con la capa Embedding\n",
    "\n",
    "### 1.1 Preprocesamiento\n",
    "Para empezar, es necesario preparar los datos de entrenamiento.\n",
    "\n",
    "En este caso, siguiendo el ejemplo, se restringirán las críticas a las 10000 palabras más habituales y se cortarán tras 20 palabras."
   ]
  },
  {
   "cell_type": "code",
   "execution_count": 2,
   "id": "02fc8af8",
   "metadata": {},
   "outputs": [
    {
     "name": "stderr",
     "output_type": "stream",
     "text": [
      "Using TensorFlow backend.\n"
     ]
    }
   ],
   "source": [
    "import warnings\n",
    "warnings.filterwarnings('ignore')\n",
    "from keras.datasets import imdb\n",
    "from keras import preprocessing"
   ]
  },
  {
   "cell_type": "code",
   "execution_count": null,
   "id": "7b0a5a04",
   "metadata": {},
   "outputs": [],
   "source": []
  },
  {
   "cell_type": "code",
   "execution_count": 3,
   "id": "5437e289",
   "metadata": {},
   "outputs": [],
   "source": [
    "max_palabras = 10000 #Número de palabras más habituales que se utilizarán, en nuestro caso, 10000\n",
    "maxlen = 20          #Número de palabras tras las que se cortará la crítica\n",
    "\n",
    "(x_train, y_train), (x_test, y_test) = imdb.load_data(num_words = max_palabras)\n",
    "\n",
    "x_train = preprocessing.sequence.pad_sequences(x_train, maxlen = maxlen)\n",
    "x_test = preprocessing.sequence.pad_sequences(x_test, maxlen = maxlen)"
   ]
  },
  {
   "cell_type": "markdown",
   "id": "e8a90364",
   "metadata": {},
   "source": [
    "### 1.2 Preparación y entrenamiento del modelo\n",
    "Ahora se creará el modelo. La red aprenderá primero embeddings de 8 dimensiones, es decir, aprenderá 8 \"matices\" que sirvan para relacionar cada palabra con el resto. \n",
    "\n",
    "Tras esta primera capa de Embedding, se aplanará el tensor resultante para que pase de ser un tensor 3D flotante a ser uno 2D de enteros. Esto es necesario para el correcto entrenamiento de la capa Dense final, que será la encargada de la clasificación."
   ]
  },
  {
   "cell_type": "code",
   "execution_count": 4,
   "id": "fe12fac1",
   "metadata": {},
   "outputs": [
    {
     "name": "stdout",
     "output_type": "stream",
     "text": [
      "WARNING:tensorflow:From E:\\Anaconda\\envs\\tf-gpu-36\\lib\\site-packages\\tensorflow\\python\\ops\\nn_impl.py:180: add_dispatch_support.<locals>.wrapper (from tensorflow.python.ops.array_ops) is deprecated and will be removed in a future version.\n",
      "Instructions for updating:\n",
      "Use tf.where in 2.0, which has the same broadcast rule as np.where\n",
      "Model: \"sequential_1\"\n",
      "_________________________________________________________________\n",
      "Layer (type)                 Output Shape              Param #   \n",
      "=================================================================\n",
      "embedding_1 (Embedding)      (None, 20, 8)             80000     \n",
      "_________________________________________________________________\n",
      "flatten_1 (Flatten)          (None, 160)               0         \n",
      "_________________________________________________________________\n",
      "dense_1 (Dense)              (None, 1)                 161       \n",
      "=================================================================\n",
      "Total params: 80,161\n",
      "Trainable params: 80,161\n",
      "Non-trainable params: 0\n",
      "_________________________________________________________________\n",
      "WARNING:tensorflow:From E:\\Anaconda\\envs\\tf-gpu-36\\lib\\site-packages\\keras\\backend\\tensorflow_backend.py:422: The name tf.global_variables is deprecated. Please use tf.compat.v1.global_variables instead.\n",
      "\n",
      "Train on 20000 samples, validate on 5000 samples\n",
      "Epoch 1/10\n",
      "20000/20000 [==============================] - 2s 117us/step - loss: 0.6771 - acc: 0.6042 - val_loss: 0.6394 - val_acc: 0.6904\n",
      "Epoch 2/10\n",
      "20000/20000 [==============================] - 2s 81us/step - loss: 0.5647 - acc: 0.7404 - val_loss: 0.5434 - val_acc: 0.7242\n",
      "Epoch 3/10\n",
      "20000/20000 [==============================] - 2s 85us/step - loss: 0.4747 - acc: 0.7822 - val_loss: 0.5081 - val_acc: 0.7430\n",
      "Epoch 4/10\n",
      "20000/20000 [==============================] - 2s 79us/step - loss: 0.4268 - acc: 0.8091 - val_loss: 0.4979 - val_acc: 0.7490\n",
      "Epoch 5/10\n",
      "20000/20000 [==============================] - 2s 84us/step - loss: 0.3941 - acc: 0.8262 - val_loss: 0.4965 - val_acc: 0.7534\n",
      "Epoch 6/10\n",
      "20000/20000 [==============================] - 2s 87us/step - loss: 0.3673 - acc: 0.8400 - val_loss: 0.4991 - val_acc: 0.7560\n",
      "Epoch 7/10\n",
      "20000/20000 [==============================] - 2s 89us/step - loss: 0.3430 - acc: 0.8554 - val_loss: 0.5055 - val_acc: 0.7528\n",
      "Epoch 8/10\n",
      "20000/20000 [==============================] - 2s 87us/step - loss: 0.3210 - acc: 0.8663 - val_loss: 0.5133 - val_acc: 0.7498\n",
      "Epoch 9/10\n",
      "20000/20000 [==============================] - 2s 88us/step - loss: 0.3004 - acc: 0.8787 - val_loss: 0.5209 - val_acc: 0.7482\n",
      "Epoch 10/10\n",
      "20000/20000 [==============================] - 2s 84us/step - loss: 0.2806 - acc: 0.8888 - val_loss: 0.5321 - val_acc: 0.7460\n"
     ]
    }
   ],
   "source": [
    "from keras.models import Sequential\n",
    "from keras.layers import Flatten, Dense, Embedding\n",
    "\n",
    "model = Sequential()\n",
    "model.add(Embedding(10000, 8, input_length = maxlen)) #Tras esta capa el tensor resultante \n",
    "                                                      #es de la forma (muestras, maxlen, 8)\n",
    "\n",
    "model.add(Flatten()) #Esta capa aplana el tensor anterior, quedando con la siguiente forma: \n",
    "                     #(muestras, maxlen * 8)\n",
    "\n",
    "model.add(Dense(1, activation = 'sigmoid')) #Este es el clasificador, con una sola neurona \n",
    "                                            #que dará como resultado 0 o 1\n",
    "model.compile(optimizer = 'rmsprop', loss = 'binary_crossentropy', metrics = ['acc'])\n",
    "model.summary()\n",
    "\n",
    "history = model.fit(x_train, y_train, epochs = 10, batch_size = 32, validation_split = 0.2)"
   ]
  },
  {
   "cell_type": "markdown",
   "id": "307cf5ec",
   "metadata": {},
   "source": [
    "El resultado es alrededor de un 75% de precisión en la validación. No está mal, pero podría mejorarse.\n",
    "\n",
    "## 2. Utilización de embeddings preentrenados\n",
    "\n",
    "En este ejemplo cambiará la estructura de los datos de entrada. Se trata de un conjunto de críticas de IMDB que tienen asociadas una lista de etiquetas. Entre las etiquetas pueden encontrarse _'pos'_, si es positiva, y _'neg'_ si es negativa.\n",
    "\n",
    "### 2.1 Preprocesamiento\n",
    "Para este segundo modelo se hará uso de datos de IMDB encontrados en el siguiente enlace: [Datos de IMDB](http://mng.bz/0tIo)\n",
    "\n",
    "Recogeremos las críticas en una lista de cadenas, siendo una cadena una crítica. También se recogerá si la crítica es positiva o negativa en una lista _\"labels\"_."
   ]
  },
  {
   "cell_type": "code",
   "execution_count": 5,
   "id": "762c5c28",
   "metadata": {},
   "outputs": [],
   "source": [
    "import os\n",
    "\n",
    "imdb_dir = 'E:/Universidad/TFG/IMDB/aclImdb'\n",
    "train_dir = os.path.join(imdb_dir, 'train')\n",
    "\n",
    "labels = []\n",
    "texts = []\n",
    "\n",
    "for label_type in ['neg', 'pos']:\n",
    "    dir_name = os.path.join(train_dir, label_type)\n",
    "    for fname in os.listdir(dir_name):\n",
    "        if fname[-4:] == '.txt':\n",
    "            f = open(os.path.join(dir_name, fname), encoding=\"utf8\")\n",
    "            texts.append(f.read())\n",
    "            f.close()\n",
    "            if label_type == 'neg':\n",
    "                labels.append(0)\n",
    "            else:\n",
    "                labels.append(1)"
   ]
  },
  {
   "cell_type": "markdown",
   "id": "e3a6f778",
   "metadata": {},
   "source": [
    "Ahora se vectorizará el texto y se realizará una división del conjunto de datos de entrenamiento y de validación. Los embeddings de palabras preentrenados son especialmente efectivos en problemas con pocos datos, por eso, se restringirá el conjunto de entrenamiento a 200 muestras.\n",
    "\n",
    "También se tokenizarán las palabras, de manera que se asocie un número único a cada una de ellas."
   ]
  },
  {
   "cell_type": "code",
   "execution_count": 6,
   "id": "be907e1e",
   "metadata": {},
   "outputs": [
    {
     "name": "stdout",
     "output_type": "stream",
     "text": [
      "Se han encontrado 88582 tokens únicos.\n",
      "Forma del tensor de datos:  (25000, 100)\n",
      "Forma del tensor de etiquetas:  (25000,)\n"
     ]
    }
   ],
   "source": [
    "from keras.preprocessing.text import Tokenizer\n",
    "from keras.preprocessing.sequence import pad_sequences\n",
    "import numpy as np\n",
    "\n",
    "maxlen = 100\n",
    "training_samples = 200\n",
    "validation_samples = 10000\n",
    "max_words = 10000\n",
    "\n",
    "tokenizer = Tokenizer(num_words = max_words)\n",
    "tokenizer.fit_on_texts(texts)\n",
    "sequences = tokenizer.texts_to_sequences(texts)\n",
    "\n",
    "word_index = tokenizer.word_index\n",
    "print('Se han encontrado %s tokens únicos.' % len(word_index))\n",
    "\n",
    "data = pad_sequences(sequences, maxlen=maxlen)\n",
    "\n",
    "labels = np.asarray(labels)\n",
    "print('Forma del tensor de datos: ', data.shape)\n",
    "print('Forma del tensor de etiquetas: ', labels.shape)\n",
    "\n",
    "indices = np.arange(data.shape[0])   #Estas líneas mezclan las críticas, dado que primero aparecen todas las\n",
    "np.random.shuffle(indices)           #críticas negativas y luego todas las positivas\n",
    "data = data[indices]\n",
    "labels = labels[indices]\n",
    "\n",
    "x_train = data[:training_samples]\n",
    "y_train = labels[:training_samples]\n",
    "x_val = data[training_samples: training_samples + validation_samples]\n",
    "y_val = labels[training_samples: training_samples + validation_samples]"
   ]
  },
  {
   "cell_type": "markdown",
   "id": "9e271f75",
   "metadata": {},
   "source": [
    "### 2.2 Preparación de los embeddings\n",
    "Los embeddings de palabras de los que se hará uso son de GloVe, en concreto es el archivo comprimido glove.6B.zip, el cual se encuentra aquí: [Embeddings de palabras de GloVe](https://nlp.stanford.edu/projects/glove)\n",
    "\n",
    "Una vez descomprimido, usaremos el archivo _\"glove.6B.100d.txt\"_, que contiene embeddings de 100 dimensiones para 400000 palabras.\n",
    "\n",
    "Si observamos los archivos .txt tras descomprimir, podemos ver que la estructura que siguen es colocar la palabra al principio de la línea y después todos los datos de sus dimensiones. Leeremos el archivo y lo estructuraremos en un diccionario que asocie la palabra con los coeficientes de sus 100 dimensiones."
   ]
  },
  {
   "cell_type": "code",
   "execution_count": 7,
   "id": "1ba2f46e",
   "metadata": {},
   "outputs": [
    {
     "name": "stdout",
     "output_type": "stream",
     "text": [
      "Se han encontrado 400000 vectores de palabras.\n"
     ]
    }
   ],
   "source": [
    "glove_dir = 'E:/Universidad/TFG/IMDB/glove6B'\n",
    "\n",
    "embeddings_index = {}\n",
    "f = open(os.path.join(glove_dir, 'glove.6B.100d.txt'), encoding=\"utf8\")\n",
    "\n",
    "for line in f:\n",
    "    values = line.split()\n",
    "    word = values[0]\n",
    "    coefs = np.asarray(values[1:], dtype='float32')\n",
    "    embeddings_index[word] = coefs\n",
    "f.close()\n",
    "\n",
    "print('Se han encontrado %s vectores de palabras.' % len(embeddings_index))"
   ]
  },
  {
   "cell_type": "markdown",
   "id": "8f8f6448",
   "metadata": {},
   "source": [
    "Ahora hay que adaptar la información para que se presente en una matriz de la forma (max_words, embedding_dim), de manera que pueda ser cargada en una capa Embedding.\n",
    "\n",
    "Además, es necesario asociar el índice de palabras que generamos previamente para la tokenización con el índice de embeddings."
   ]
  },
  {
   "cell_type": "code",
   "execution_count": 8,
   "id": "62428e78",
   "metadata": {},
   "outputs": [],
   "source": [
    "embedding_dim = 100\n",
    "\n",
    "embedding_matrix = np.zeros((max_words, embedding_dim))\n",
    "for word, i in word_index.items():                    #Se comprueba cada palabra del índice de palabras de la tokenización\n",
    "    if i < max_words:                                 #Si existe en el índice de embeddings se toman los coeficientes y se\n",
    "        embedding_vector = embeddings_index.get(word) #colocan en la matriz siguiendo el orden del índice de tokens\n",
    "        if embedding_vector is not None:\n",
    "            embedding_matrix[i] = embedding_vector #Las palabras que no estén en el embedding index serán todo ceros"
   ]
  },
  {
   "cell_type": "markdown",
   "id": "477df20f",
   "metadata": {},
   "source": [
    "### 2.3 Preparación del modelo\n",
    "En este caso, usaremos el mismo modelo que en el ejemplo anterior con una capa Dense de 32 neuronas antes de la activación. Además habrá que cargar los embeddings preentrenados.\n",
    "Para ello introduciremos los pesos de los embeddings de GloVe manualmente en la capa de Embedding y además congelaremos el entrenamiento de la capa, para que se mantengan."
   ]
  },
  {
   "cell_type": "code",
   "execution_count": 9,
   "id": "4c48a6bb",
   "metadata": {},
   "outputs": [
    {
     "name": "stdout",
     "output_type": "stream",
     "text": [
      "Model: \"sequential_2\"\n",
      "_________________________________________________________________\n",
      "Layer (type)                 Output Shape              Param #   \n",
      "=================================================================\n",
      "embedding_2 (Embedding)      (None, 100, 100)          1000000   \n",
      "_________________________________________________________________\n",
      "flatten_2 (Flatten)          (None, 10000)             0         \n",
      "_________________________________________________________________\n",
      "dense_2 (Dense)              (None, 32)                320032    \n",
      "_________________________________________________________________\n",
      "dense_3 (Dense)              (None, 1)                 33        \n",
      "=================================================================\n",
      "Total params: 1,320,065\n",
      "Trainable params: 1,320,065\n",
      "Non-trainable params: 0\n",
      "_________________________________________________________________\n"
     ]
    }
   ],
   "source": [
    "model = Sequential()\n",
    "model.add(Embedding(max_words, embedding_dim, input_length=maxlen))\n",
    "model.add(Flatten())\n",
    "model.add(Dense(32, activation = 'relu'))\n",
    "model.add(Dense(1, activation = 'sigmoid'))\n",
    "model.summary()\n",
    "\n",
    "model.layers[0].set_weights([embedding_matrix])\n",
    "model.layers[0].trainable = False"
   ]
  },
  {
   "cell_type": "markdown",
   "id": "d55f69b2",
   "metadata": {},
   "source": [
    "### 2.4 Entrenamiento del modelo\n",
    "A continuación entrenaremos el modelo."
   ]
  },
  {
   "cell_type": "code",
   "execution_count": 10,
   "id": "42580827",
   "metadata": {},
   "outputs": [
    {
     "name": "stdout",
     "output_type": "stream",
     "text": [
      "Train on 200 samples, validate on 10000 samples\n",
      "Epoch 1/10\n",
      "200/200 [==============================] - 1s 3ms/step - loss: 1.6486 - acc: 0.4700 - val_loss: 0.6934 - val_acc: 0.5325\n",
      "Epoch 2/10\n",
      "200/200 [==============================] - 1s 3ms/step - loss: 0.5832 - acc: 0.7050 - val_loss: 1.0360 - val_acc: 0.5082\n",
      "Epoch 3/10\n",
      "200/200 [==============================] - 0s 2ms/step - loss: 0.4491 - acc: 0.8300 - val_loss: 1.1216 - val_acc: 0.4928\n",
      "Epoch 4/10\n",
      "200/200 [==============================] - 0s 2ms/step - loss: 0.5191 - acc: 0.6900 - val_loss: 0.6978 - val_acc: 0.5600\n",
      "Epoch 5/10\n",
      "200/200 [==============================] - 0s 2ms/step - loss: 0.2300 - acc: 0.9350 - val_loss: 0.6920 - val_acc: 0.5742\n",
      "Epoch 6/10\n",
      "200/200 [==============================] - 0s 2ms/step - loss: 0.1676 - acc: 0.9550 - val_loss: 1.8799 - val_acc: 0.4928\n",
      "Epoch 7/10\n",
      "200/200 [==============================] - 0s 2ms/step - loss: 0.2234 - acc: 0.9150 - val_loss: 0.7762 - val_acc: 0.5497\n",
      "Epoch 8/10\n",
      "200/200 [==============================] - 0s 2ms/step - loss: 0.0540 - acc: 1.0000 - val_loss: 0.9721 - val_acc: 0.5376\n",
      "Epoch 9/10\n",
      "200/200 [==============================] - 1s 3ms/step - loss: 0.1600 - acc: 0.9500 - val_loss: 0.8291 - val_acc: 0.5522\n",
      "Epoch 10/10\n",
      "200/200 [==============================] - 1s 3ms/step - loss: 0.0224 - acc: 1.0000 - val_loss: 0.7783 - val_acc: 0.5694\n"
     ]
    }
   ],
   "source": [
    "model.compile(optimizer='rmsprop', loss='binary_crossentropy', metrics=['acc'])\n",
    "history = model.fit(x_train, y_train, epochs = 10, batch_size = 32, validation_data = (x_val, y_val))\n",
    "model.save_weights('pre_trained_glove_model.h5')"
   ]
  },
  {
   "cell_type": "markdown",
   "id": "05a3a218",
   "metadata": {},
   "source": [
    "Ahora mostraremos los resultados del entrenamiento en gráficas"
   ]
  },
  {
   "cell_type": "code",
   "execution_count": 13,
   "id": "69aad257",
   "metadata": {},
   "outputs": [
    {
     "data": {
      "image/png": "[encoded data removed]",
      "text/plain": [
       "<Figure size 432x288 with 1 Axes>"
      ]
     },
     "metadata": {
      "needs_background": "light"
     },
     "output_type": "display_data"
    },
    {
     "data": {
      "image/png": "[encoded data removed]",
      "text/plain": [
       "<Figure size 432x288 with 1 Axes>"
      ]
     },
     "metadata": {
      "needs_background": "light"
     },
     "output_type": "display_data"
    }
   ],
   "source": [
    "import matplotlib.pyplot as plt\n",
    "\n",
    "acc = history.history['acc']\n",
    "val_acc = history.history['val_acc']\n",
    "loss = history.history['loss']\n",
    "val_loss = history.history['val_loss']\n",
    "\n",
    "epochs = range(1, len(acc) + 1)\n",
    "\n",
    "plt.plot(epochs, acc, 'bo', label = 'Entrenamiento')\n",
    "plt.plot(epochs, val_acc, 'b', label = 'Validación')\n",
    "plt.title('Precisión en el entrenamiento y en la validación')\n",
    "plt.legend()\n",
    "\n",
    "plt.figure()\n",
    "\n",
    "plt.plot(epochs, loss, 'bo', label = 'Entrenamiento')\n",
    "plt.plot(epochs, val_loss, 'b', label = 'Validación')\n",
    "plt.title('Pérdida en el entrenamiento y en la validación')\n",
    "plt.legend()\n",
    "\n",
    "plt.show()"
   ]
  },
  {
   "cell_type": "markdown",
   "id": "fae186d1",
   "metadata": {},
   "source": [
    "Como puede observarse el modelo sufre sobreajuste, en el entrenamiento se alcanza un valor cercano al 100% de precisión, pero en la validación se obtiene algo más del 50%. Esto es debido a que solo se utilizan 200 muestras.\n",
    "\n",
    "### 2.5 Cambio a embeddings específicos\n",
    "\n",
    "A continuación probaremos a entrenar el modelo sin un embedding preentrenado. Los embeddings de palabras específicos son más efectivos en tareas con muchos datos, por lo que es de esperar que con tan solo 200 muestras no vaya a ser una opción demasiado viable."
   ]
  },
  {
   "cell_type": "code",
   "execution_count": 14,
   "id": "fc131764",
   "metadata": {},
   "outputs": [
    {
     "name": "stdout",
     "output_type": "stream",
     "text": [
      "Model: \"sequential_3\"\n",
      "_________________________________________________________________\n",
      "Layer (type)                 Output Shape              Param #   \n",
      "=================================================================\n",
      "embedding_3 (Embedding)      (None, 100, 100)          1000000   \n",
      "_________________________________________________________________\n",
      "flatten_3 (Flatten)          (None, 10000)             0         \n",
      "_________________________________________________________________\n",
      "dense_4 (Dense)              (None, 32)                320032    \n",
      "_________________________________________________________________\n",
      "dense_5 (Dense)              (None, 1)                 33        \n",
      "=================================================================\n",
      "Total params: 1,320,065\n",
      "Trainable params: 1,320,065\n",
      "Non-trainable params: 0\n",
      "_________________________________________________________________\n",
      "Train on 200 samples, validate on 10000 samples\n",
      "Epoch 1/10\n",
      "200/200 [==============================] - 1s 3ms/step - loss: 0.6977 - acc: 0.4850 - val_loss: 0.6922 - val_acc: 0.5217\n",
      "Epoch 2/10\n",
      "200/200 [==============================] - 1s 3ms/step - loss: 0.5367 - acc: 0.9500 - val_loss: 0.6958 - val_acc: 0.5189\n",
      "Epoch 3/10\n",
      "200/200 [==============================] - 1s 3ms/step - loss: 0.3365 - acc: 0.9700 - val_loss: 0.7064 - val_acc: 0.5207\n",
      "Epoch 4/10\n",
      "200/200 [==============================] - 1s 3ms/step - loss: 0.1653 - acc: 0.9950 - val_loss: 0.6938 - val_acc: 0.5340\n",
      "Epoch 5/10\n",
      "200/200 [==============================] - 1s 3ms/step - loss: 0.0806 - acc: 1.0000 - val_loss: 0.7034 - val_acc: 0.5255\n",
      "Epoch 6/10\n",
      "200/200 [==============================] - 0s 2ms/step - loss: 0.0413 - acc: 1.0000 - val_loss: 0.7053 - val_acc: 0.5317\n",
      "Epoch 7/10\n",
      "200/200 [==============================] - 1s 3ms/step - loss: 0.0223 - acc: 1.0000 - val_loss: 0.7136 - val_acc: 0.5328\n",
      "Epoch 8/10\n",
      "200/200 [==============================] - 0s 2ms/step - loss: 0.0128 - acc: 1.0000 - val_loss: 0.7251 - val_acc: 0.5273\n",
      "Epoch 9/10\n",
      "200/200 [==============================] - 1s 3ms/step - loss: 0.0076 - acc: 1.0000 - val_loss: 0.7191 - val_acc: 0.5394\n",
      "Epoch 10/10\n",
      "200/200 [==============================] - 1s 3ms/step - loss: 0.0046 - acc: 1.0000 - val_loss: 0.7361 - val_acc: 0.5298\n"
     ]
    }
   ],
   "source": [
    "model = Sequential()\n",
    "model.add(Embedding(max_words, embedding_dim, input_length=maxlen))\n",
    "model.add(Flatten())\n",
    "model.add(Dense(32, activation = 'relu'))\n",
    "model.add(Dense(1, activation = 'sigmoid'))\n",
    "model.summary()\n",
    "\n",
    "model.compile(optimizer='rmsprop', loss='binary_crossentropy', metrics=['acc'])\n",
    "history = model.fit(x_train, y_train, epochs = 10, batch_size = 32, validation_data = (x_val, y_val))"
   ]
  },
  {
   "cell_type": "markdown",
   "id": "728ff434",
   "metadata": {},
   "source": [
    "Mostramos los resultados"
   ]
  },
  {
   "cell_type": "code",
   "execution_count": 15,
   "id": "e65d680d",
   "metadata": {},
   "outputs": [
    {
     "data": {
      "image/png": "[encoded data removed]",
      "text/plain": [
       "<Figure size 432x288 with 1 Axes>"
      ]
     },
     "metadata": {
      "needs_background": "light"
     },
     "output_type": "display_data"
    },
    {
     "data": {
      "image/png": "[encoded data removed]",
      "text/plain": [
       "<Figure size 432x288 with 1 Axes>"
      ]
     },
     "metadata": {
      "needs_background": "light"
     },
     "output_type": "display_data"
    }
   ],
   "source": [
    "import matplotlib.pyplot as plt\n",
    "\n",
    "acc = history.history['acc']\n",
    "val_acc = history.history['val_acc']\n",
    "loss = history.history['loss']\n",
    "val_loss = history.history['val_loss']\n",
    "\n",
    "epochs = range(1, len(acc) + 1)\n",
    "\n",
    "plt.plot(epochs, acc, 'bo', label = 'Entrenamiento')\n",
    "plt.plot(epochs, val_acc, 'b', label = 'Validación')\n",
    "plt.title('Precisión en el entrenamiento y en la validación')\n",
    "plt.legend()\n",
    "\n",
    "plt.figure()\n",
    "\n",
    "plt.plot(epochs, loss, 'bo', label = 'Entrenamiento')\n",
    "plt.plot(epochs, val_loss, 'b', label = 'Validación')\n",
    "plt.title('Pérdida en el entrenamiento y en la validación')\n",
    "plt.legend()\n",
    "\n",
    "plt.show()"
   ]
  },
  {
   "cell_type": "markdown",
   "id": "e2ec1b71",
   "metadata": {},
   "source": [
    "Como podemos ver, hay de nuevo sobreajuste y esta vez la precisión en la validación es algo inferior que con embeddings preentrenados.\n",
    "\n",
    "Sin embargo, ahora vamos a probar con más datos, solo para comprobar que efectivamente, los embeddings específicos funcionan mejor con conjuntos de datos grandes. Vamos a cambiar el conjunto de datos de validación (de 10000 muestras) por el de entrenamiento (200 muestras)."
   ]
  },
  {
   "cell_type": "code",
   "execution_count": 20,
   "id": "1dd752d3",
   "metadata": {},
   "outputs": [
    {
     "name": "stdout",
     "output_type": "stream",
     "text": [
      "Model: \"sequential_5\"\n",
      "_________________________________________________________________\n",
      "Layer (type)                 Output Shape              Param #   \n",
      "=================================================================\n",
      "embedding_5 (Embedding)      (None, 100, 100)          1000000   \n",
      "_________________________________________________________________\n",
      "flatten_5 (Flatten)          (None, 10000)             0         \n",
      "_________________________________________________________________\n",
      "dense_8 (Dense)              (None, 32)                320032    \n",
      "_________________________________________________________________\n",
      "dense_9 (Dense)              (None, 1)                 33        \n",
      "=================================================================\n",
      "Total params: 1,320,065\n",
      "Trainable params: 1,320,065\n",
      "Non-trainable params: 0\n",
      "_________________________________________________________________\n",
      "Train on 10000 samples, validate on 200 samples\n",
      "Epoch 1/10\n",
      "10000/10000 [==============================] - 1s 133us/step - loss: 0.5103 - acc: 0.7313 - val_loss: 0.4356 - val_acc: 0.7750\n",
      "Epoch 2/10\n",
      "10000/10000 [==============================] - 1s 115us/step - loss: 0.1379 - acc: 0.9517 - val_loss: 0.4844 - val_acc: 0.8250\n",
      "Epoch 3/10\n",
      "10000/10000 [==============================] - 1s 113us/step - loss: 0.0103 - acc: 0.9979 - val_loss: 0.7368 - val_acc: 0.7800\n",
      "Epoch 4/10\n",
      "10000/10000 [==============================] - 1s 113us/step - loss: 7.4282e-04 - acc: 0.9998 - val_loss: 0.9247 - val_acc: 0.7900\n",
      "Epoch 5/10\n",
      "10000/10000 [==============================] - 1s 116us/step - loss: 2.6639e-05 - acc: 1.0000 - val_loss: 1.1378 - val_acc: 0.7800\n",
      "Epoch 6/10\n",
      "10000/10000 [==============================] - 1s 111us/step - loss: 3.0421e-07 - acc: 1.0000 - val_loss: 1.2852 - val_acc: 0.7850\n",
      "Epoch 7/10\n",
      "10000/10000 [==============================] - 1s 114us/step - loss: 2.5179e-08 - acc: 1.0000 - val_loss: 1.3557 - val_acc: 0.7800\n",
      "Epoch 8/10\n",
      "10000/10000 [==============================] - 1s 114us/step - loss: 6.5632e-09 - acc: 1.0000 - val_loss: 1.3823 - val_acc: 0.7800\n",
      "Epoch 9/10\n",
      "10000/10000 [==============================] - 1s 119us/step - loss: 4.9593e-09 - acc: 1.0000 - val_loss: 1.4013 - val_acc: 0.7850\n",
      "Epoch 10/10\n",
      "10000/10000 [==============================] - 1s 115us/step - loss: 4.0756e-09 - acc: 1.0000 - val_loss: 1.4166 - val_acc: 0.7750\n"
     ]
    }
   ],
   "source": [
    "model = Sequential()\n",
    "model.add(Embedding(max_words, embedding_dim, input_length=maxlen))\n",
    "model.add(Flatten())\n",
    "model.add(Dense(32, activation = 'relu'))\n",
    "model.add(Dense(1, activation = 'sigmoid'))\n",
    "model.summary()\n",
    "\n",
    "model.compile(optimizer='rmsprop', loss='binary_crossentropy', metrics=['acc'])\n",
    "history = model.fit(x_val, y_val, epochs = 10, batch_size = 32, validation_data = (x_train, y_train))\n",
    "model.save_weights('embeddings_especificos_grande_model.h5')"
   ]
  },
  {
   "cell_type": "markdown",
   "id": "ec77d9b8",
   "metadata": {},
   "source": [
    "A continuación mostramos las gráficas con los datos obtenidos"
   ]
  },
  {
   "cell_type": "code",
   "execution_count": 21,
   "id": "56ef7d3d",
   "metadata": {},
   "outputs": [
    {
     "data": {
      "image/png": "[encoded data removed]",
      "text/plain": [
       "<Figure size 432x288 with 1 Axes>"
      ]
     },
     "metadata": {
      "needs_background": "light"
     },
     "output_type": "display_data"
    },
    {
     "data": {
      "image/png": "[encoded data removed]",
      "text/plain": [
       "<Figure size 432x288 with 1 Axes>"
      ]
     },
     "metadata": {
      "needs_background": "light"
     },
     "output_type": "display_data"
    }
   ],
   "source": [
    "import matplotlib.pyplot as plt\n",
    "\n",
    "acc = history.history['acc']\n",
    "val_acc = history.history['val_acc']\n",
    "loss = history.history['loss']\n",
    "val_loss = history.history['val_loss']\n",
    "\n",
    "epochs = range(1, len(acc) + 1)\n",
    "\n",
    "plt.plot(epochs, acc, 'bo', label = 'Entrenamiento')\n",
    "plt.plot(epochs, val_acc, 'b', label = 'Validación')\n",
    "plt.title('Precisión en el entrenamiento y en la validación')\n",
    "plt.legend()\n",
    "\n",
    "plt.figure()\n",
    "\n",
    "plt.plot(epochs, loss, 'bo', label = 'Entrenamiento')\n",
    "plt.plot(epochs, val_loss, 'b', label = 'Validación')\n",
    "plt.title('Pérdida en el entrenamiento y en la validación')\n",
    "plt.legend()\n",
    "\n",
    "plt.show()"
   ]
  },
  {
   "cell_type": "markdown",
   "id": "402cefcd",
   "metadata": {},
   "source": [
    "Como podemos ver, también se produce sobreajuste, pero la precisión en la validación llega a estar alrededor del 79%, bastante mejor que con un conjunto de entrenamiento pequeño.\n",
    "\n",
    "### 2.6 Evaluación del modelo\n",
    "Para evaluar el modelo utilizaremos el conjunto de datos de prueba de IMDB que descargamos previamente.\n",
    "Primero vamos a preparar los datos, tokenizándolos."
   ]
  },
  {
   "cell_type": "code",
   "execution_count": 18,
   "id": "3e16ce92",
   "metadata": {},
   "outputs": [],
   "source": [
    "imdb_dir = 'E:/Universidad/TFG/IMDB/aclImdb'\n",
    "test_dir = os.path.join(imdb_dir, 'test')\n",
    "\n",
    "labels = []\n",
    "texts = []\n",
    "\n",
    "for label_type in ['neg', 'pos']:\n",
    "    dir_name = os.path.join(test_dir, label_type)\n",
    "    for fname in os.listdir(dir_name):\n",
    "        if fname[-4:] == '.txt':\n",
    "            f = open(os.path.join(dir_name, fname), encoding=\"utf8\")\n",
    "            texts.append(f.read())\n",
    "            f.close()\n",
    "            if label_type == 'neg':\n",
    "                labels.append(0)\n",
    "            else:\n",
    "                labels.append(1)\n",
    "\n",
    "sequences = tokenizer.texts_to_sequences(texts)\n",
    "x_test = pad_sequences(sequences, maxlen = maxlen)\n",
    "y_test = np.asarray(labels)"
   ]
  },
  {
   "cell_type": "markdown",
   "id": "2e3423ba",
   "metadata": {},
   "source": [
    "Ahora cargamos y evaluamos el primer modelo."
   ]
  },
  {
   "cell_type": "code",
   "execution_count": 19,
   "id": "8a7974b5",
   "metadata": {},
   "outputs": [
    {
     "name": "stdout",
     "output_type": "stream",
     "text": [
      "25000/25000 [==============================] - 1s 45us/step\n"
     ]
    },
    {
     "data": {
      "text/plain": [
       "[0.7936463269805908, 0.564520001411438]"
      ]
     },
     "execution_count": 19,
     "metadata": {},
     "output_type": "execute_result"
    }
   ],
   "source": [
    "model.load_weights('pre_trained_glove_model.h5')\n",
    "model.evaluate(x_test, y_test)"
   ]
  },
  {
   "cell_type": "markdown",
   "id": "e400f2ce",
   "metadata": {},
   "source": [
    "Se consigue una precisión de alrededor del 56%, es un resultado bastante bajo, pero esperable.\n",
    "\n",
    "Ahora probaremos con el modelo de embeddings específicos entrenado con un conjunto de datos grande, para comparar los resultados."
   ]
  },
  {
   "cell_type": "code",
   "execution_count": 22,
   "id": "89d3dfe1",
   "metadata": {},
   "outputs": [
    {
     "name": "stdout",
     "output_type": "stream",
     "text": [
      "25000/25000 [==============================] - 1s 49us/step\n"
     ]
    },
    {
     "data": {
      "text/plain": [
       "[1.0465596101862191, 0.8226000070571899]"
      ]
     },
     "execution_count": 22,
     "metadata": {},
     "output_type": "execute_result"
    }
   ],
   "source": [
    "model.load_weights('embeddings_especificos_grande_model.h5')\n",
    "model.evaluate(x_test, y_test)"
   ]
  },
  {
   "cell_type": "markdown",
   "id": "d02ea2c0",
   "metadata": {},
   "source": [
    "Como podemos ver, este modelo es bastante mejor que el anterior, con más del 80% de precisión en la evaluación."
   ]
  }
 ],
 "metadata": {
  "kernelspec": {
   "display_name": "Python 3",
   "language": "python",
   "name": "python3"
  },
  "language_info": {
   "codemirror_mode": {
    "name": "ipython",
    "version": 3
   },
   "file_extension": ".py",
   "mimetype": "text/x-python",
   "name": "python",
   "nbconvert_exporter": "python",
   "pygments_lexer": "ipython3",
   "version": "3.6.13"
  }
 },
 "nbformat": 4,
 "nbformat_minor": 5
}
